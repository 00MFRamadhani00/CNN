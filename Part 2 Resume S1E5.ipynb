{
 "cells": [
  {
   "cell_type": "markdown",
   "id": "6940841e",
   "metadata": {},
   "source": [
    "# Print"
   ]
  },
  {
   "cell_type": "code",
   "execution_count": 1,
   "id": "084d9196",
   "metadata": {},
   "outputs": [
    {
     "name": "stdout",
     "output_type": "stream",
     "text": [
      "Helo, nama saya Fadhil\n"
     ]
    }
   ],
   "source": [
    "print(\"Helo, nama saya Fadhil\")"
   ]
  },
  {
   "cell_type": "code",
   "execution_count": 2,
   "id": "efcb91d4",
   "metadata": {},
   "outputs": [
    {
     "name": "stdout",
     "output_type": "stream",
     "text": [
      "Heke\n",
      "kaks\n"
     ]
    }
   ],
   "source": [
    "print('''Heke\n",
    "kaks''')"
   ]
  },
  {
   "cell_type": "code",
   "execution_count": 3,
   "id": "b4866ad9",
   "metadata": {},
   "outputs": [
    {
     "name": "stdout",
     "output_type": "stream",
     "text": [
      "Halo\n"
     ]
    }
   ],
   "source": [
    "print('Halo')"
   ]
  },
  {
   "cell_type": "markdown",
   "id": "3cd0fc3c",
   "metadata": {},
   "source": [
    "# Variable"
   ]
  },
  {
   "cell_type": "code",
   "execution_count": 4,
   "id": "0cd1d38f",
   "metadata": {},
   "outputs": [],
   "source": [
    "a = 1"
   ]
  },
  {
   "cell_type": "code",
   "execution_count": 5,
   "id": "2dcabd14",
   "metadata": {},
   "outputs": [
    {
     "data": {
      "text/plain": [
       "1"
      ]
     },
     "execution_count": 5,
     "metadata": {},
     "output_type": "execute_result"
    }
   ],
   "source": [
    "a"
   ]
  },
  {
   "cell_type": "code",
   "execution_count": 6,
   "id": "b4bf7528",
   "metadata": {},
   "outputs": [],
   "source": [
    "a, b = 2, 3"
   ]
  },
  {
   "cell_type": "code",
   "execution_count": 7,
   "id": "d5e49605",
   "metadata": {},
   "outputs": [
    {
     "data": {
      "text/plain": [
       "3"
      ]
     },
     "execution_count": 7,
     "metadata": {},
     "output_type": "execute_result"
    }
   ],
   "source": [
    "b"
   ]
  },
  {
   "cell_type": "code",
   "execution_count": 8,
   "id": "67ae270b",
   "metadata": {},
   "outputs": [
    {
     "data": {
      "text/plain": [
       "2"
      ]
     },
     "execution_count": 8,
     "metadata": {},
     "output_type": "execute_result"
    }
   ],
   "source": [
    "a"
   ]
  },
  {
   "cell_type": "code",
   "execution_count": 9,
   "id": "8619ab9a",
   "metadata": {},
   "outputs": [
    {
     "data": {
      "text/plain": [
       "(2, 3)"
      ]
     },
     "execution_count": 9,
     "metadata": {},
     "output_type": "execute_result"
    }
   ],
   "source": [
    "a, b"
   ]
  },
  {
   "cell_type": "markdown",
   "id": "e3d8583e",
   "metadata": {},
   "source": [
    "# List"
   ]
  },
  {
   "cell_type": "code",
   "execution_count": 11,
   "id": "68d66ccb",
   "metadata": {},
   "outputs": [],
   "source": [
    "a = [1,2,3,\"empat\",\"lima\",6]"
   ]
  },
  {
   "cell_type": "code",
   "execution_count": 12,
   "id": "441aac59",
   "metadata": {},
   "outputs": [
    {
     "data": {
      "text/plain": [
       "[1, 2, 3, 'empat', 'lima', 6]"
      ]
     },
     "execution_count": 12,
     "metadata": {},
     "output_type": "execute_result"
    }
   ],
   "source": [
    "a"
   ]
  },
  {
   "cell_type": "code",
   "execution_count": 13,
   "id": "48155985",
   "metadata": {},
   "outputs": [
    {
     "data": {
      "text/plain": [
       "1"
      ]
     },
     "execution_count": 13,
     "metadata": {},
     "output_type": "execute_result"
    }
   ],
   "source": [
    "a[0]"
   ]
  },
  {
   "cell_type": "code",
   "execution_count": 14,
   "id": "1ecf3bc4",
   "metadata": {},
   "outputs": [
    {
     "data": {
      "text/plain": [
       "'lima'"
      ]
     },
     "execution_count": 14,
     "metadata": {},
     "output_type": "execute_result"
    }
   ],
   "source": [
    "a[4]"
   ]
  },
  {
   "cell_type": "code",
   "execution_count": 15,
   "id": "49a54c12",
   "metadata": {},
   "outputs": [
    {
     "data": {
      "text/plain": [
       "6"
      ]
     },
     "execution_count": 15,
     "metadata": {},
     "output_type": "execute_result"
    }
   ],
   "source": [
    "a[-1]"
   ]
  },
  {
   "cell_type": "code",
   "execution_count": 16,
   "id": "89d6e53b",
   "metadata": {},
   "outputs": [
    {
     "data": {
      "text/plain": [
       "'lima'"
      ]
     },
     "execution_count": 16,
     "metadata": {},
     "output_type": "execute_result"
    }
   ],
   "source": [
    "a[-2]"
   ]
  },
  {
   "cell_type": "code",
   "execution_count": 18,
   "id": "540b6759",
   "metadata": {},
   "outputs": [],
   "source": [
    "a.append(7)"
   ]
  },
  {
   "cell_type": "code",
   "execution_count": 20,
   "id": "bd5a56c2",
   "metadata": {},
   "outputs": [
    {
     "data": {
      "text/plain": [
       "[1, 2, 3, 'empat', 'lima', 6, 7]"
      ]
     },
     "execution_count": 20,
     "metadata": {},
     "output_type": "execute_result"
    }
   ],
   "source": [
    "a"
   ]
  },
  {
   "cell_type": "code",
   "execution_count": 19,
   "id": "ec750db4",
   "metadata": {},
   "outputs": [
    {
     "data": {
      "text/plain": [
       "7"
      ]
     },
     "execution_count": 19,
     "metadata": {},
     "output_type": "execute_result"
    }
   ],
   "source": [
    "len(a)"
   ]
  },
  {
   "cell_type": "markdown",
   "id": "06c1e79b",
   "metadata": {},
   "source": [
    "# Slicing"
   ]
  },
  {
   "cell_type": "markdown",
   "id": "cef74ad5",
   "metadata": {},
   "source": [
    "`inclusive`:`exclusive`:`step`"
   ]
  },
  {
   "cell_type": "code",
   "execution_count": 21,
   "id": "0bfa5da5",
   "metadata": {},
   "outputs": [],
   "source": [
    "a = [0, 1, 2, 3, 4, 5, 6]"
   ]
  },
  {
   "cell_type": "code",
   "execution_count": 22,
   "id": "545f696c",
   "metadata": {},
   "outputs": [
    {
     "data": {
      "text/plain": [
       "[0, 1]"
      ]
     },
     "execution_count": 22,
     "metadata": {},
     "output_type": "execute_result"
    }
   ],
   "source": [
    "a[0:2]"
   ]
  },
  {
   "cell_type": "code",
   "execution_count": 23,
   "id": "6a835188",
   "metadata": {},
   "outputs": [
    {
     "data": {
      "text/plain": [
       "[0, 1, 2, 3, 4]"
      ]
     },
     "execution_count": 23,
     "metadata": {},
     "output_type": "execute_result"
    }
   ],
   "source": [
    "a[0:5]"
   ]
  },
  {
   "cell_type": "code",
   "execution_count": 24,
   "id": "7d6503eb",
   "metadata": {},
   "outputs": [
    {
     "data": {
      "text/plain": [
       "[3, 4]"
      ]
     },
     "execution_count": 24,
     "metadata": {},
     "output_type": "execute_result"
    }
   ],
   "source": [
    "a[3:-2]"
   ]
  },
  {
   "cell_type": "code",
   "execution_count": 25,
   "id": "322e7962",
   "metadata": {},
   "outputs": [
    {
     "data": {
      "text/plain": [
       "[0, 1, 2, 3, 4]"
      ]
     },
     "execution_count": 25,
     "metadata": {},
     "output_type": "execute_result"
    }
   ],
   "source": [
    "a[:5]"
   ]
  },
  {
   "cell_type": "code",
   "execution_count": 26,
   "id": "ede8da54",
   "metadata": {},
   "outputs": [
    {
     "data": {
      "text/plain": [
       "[3, 4, 5, 6]"
      ]
     },
     "execution_count": 26,
     "metadata": {},
     "output_type": "execute_result"
    }
   ],
   "source": [
    "a[3:]"
   ]
  },
  {
   "cell_type": "code",
   "execution_count": 27,
   "id": "b64e0a55",
   "metadata": {},
   "outputs": [
    {
     "data": {
      "text/plain": [
       "[0, 2, 4, 6]"
      ]
     },
     "execution_count": 27,
     "metadata": {},
     "output_type": "execute_result"
    }
   ],
   "source": [
    "a[::2]"
   ]
  },
  {
   "cell_type": "code",
   "execution_count": 28,
   "id": "99c0be9e",
   "metadata": {},
   "outputs": [
    {
     "data": {
      "text/plain": [
       "[1, 3]"
      ]
     },
     "execution_count": 28,
     "metadata": {},
     "output_type": "execute_result"
    }
   ],
   "source": [
    "a[1:5:2]"
   ]
  },
  {
   "cell_type": "code",
   "execution_count": 29,
   "id": "2dad126e",
   "metadata": {},
   "outputs": [
    {
     "data": {
      "text/plain": [
       "[6, 5, 4, 3, 2, 1, 0]"
      ]
     },
     "execution_count": 29,
     "metadata": {},
     "output_type": "execute_result"
    }
   ],
   "source": [
    "a[::-1]"
   ]
  },
  {
   "cell_type": "markdown",
   "id": "8414ebc3",
   "metadata": {},
   "source": [
    "# Join & Split"
   ]
  },
  {
   "cell_type": "code",
   "execution_count": 30,
   "id": "f8253898",
   "metadata": {},
   "outputs": [],
   "source": [
    "a = ['Cat', 'Dog', 'Fish']"
   ]
  },
  {
   "cell_type": "code",
   "execution_count": 31,
   "id": "e8cdb765",
   "metadata": {},
   "outputs": [
    {
     "data": {
      "text/plain": [
       "'Cat Dog Fish'"
      ]
     },
     "execution_count": 31,
     "metadata": {},
     "output_type": "execute_result"
    }
   ],
   "source": [
    "\" \".join(a)"
   ]
  },
  {
   "cell_type": "code",
   "execution_count": 32,
   "id": "4945cd9d",
   "metadata": {},
   "outputs": [
    {
     "data": {
      "text/plain": [
       "'Cat, Dog, Fish'"
      ]
     },
     "execution_count": 32,
     "metadata": {},
     "output_type": "execute_result"
    }
   ],
   "source": [
    "\", \".join(a)"
   ]
  },
  {
   "cell_type": "code",
   "execution_count": 33,
   "id": "e7adff13",
   "metadata": {},
   "outputs": [],
   "source": [
    "a = 'Belajar menggunakan Jupyter Notebook'"
   ]
  },
  {
   "cell_type": "code",
   "execution_count": 34,
   "id": "36d37084",
   "metadata": {},
   "outputs": [
    {
     "data": {
      "text/plain": [
       "['Belajar', 'menggunakan', 'Jupyter', 'Notebook']"
      ]
     },
     "execution_count": 34,
     "metadata": {},
     "output_type": "execute_result"
    }
   ],
   "source": [
    "a.split()"
   ]
  },
  {
   "cell_type": "code",
   "execution_count": 35,
   "id": "90c4c52a",
   "metadata": {},
   "outputs": [],
   "source": [
    "a = 'Hari ini, Sarimin pergi ke pasar'"
   ]
  },
  {
   "cell_type": "code",
   "execution_count": 37,
   "id": "19cf808e",
   "metadata": {},
   "outputs": [
    {
     "data": {
      "text/plain": [
       "['Hari ini', 'Sarimin pergi ke pasar']"
      ]
     },
     "execution_count": 37,
     "metadata": {},
     "output_type": "execute_result"
    }
   ],
   "source": [
    "a.split(\", \")"
   ]
  },
  {
   "cell_type": "markdown",
   "id": "177dc02a",
   "metadata": {},
   "source": [
    "# Dictionary"
   ]
  },
  {
   "cell_type": "markdown",
   "id": "5f649416",
   "metadata": {},
   "source": [
    "`key`:`value`"
   ]
  },
  {
   "cell_type": "code",
   "execution_count": 40,
   "id": "95a67a62",
   "metadata": {},
   "outputs": [],
   "source": [
    "a = {\n",
    "    'Cat': 'Kucing', \n",
    "    'Dog': 'Anjing',\n",
    "    'Fish': 'Ikan'\n",
    "}"
   ]
  },
  {
   "cell_type": "code",
   "execution_count": 42,
   "id": "25db58bb",
   "metadata": {},
   "outputs": [
    {
     "data": {
      "text/plain": [
       "'Kucing'"
      ]
     },
     "execution_count": 42,
     "metadata": {},
     "output_type": "execute_result"
    }
   ],
   "source": [
    "a['Cat']"
   ]
  },
  {
   "cell_type": "code",
   "execution_count": 43,
   "id": "423a401b",
   "metadata": {},
   "outputs": [],
   "source": [
    "a['Bird'] = 'Burung'"
   ]
  },
  {
   "cell_type": "code",
   "execution_count": 44,
   "id": "7e91c221",
   "metadata": {},
   "outputs": [
    {
     "data": {
      "text/plain": [
       "{'Cat': 'Kucing', 'Dog': 'Anjing', 'Fish': 'Ikan', 'Bird': 'Burung'}"
      ]
     },
     "execution_count": 44,
     "metadata": {},
     "output_type": "execute_result"
    }
   ],
   "source": [
    "a"
   ]
  },
  {
   "cell_type": "code",
   "execution_count": 45,
   "id": "9e0f9e71",
   "metadata": {},
   "outputs": [],
   "source": [
    "a['Elephant'] = 'Gajah'"
   ]
  },
  {
   "cell_type": "code",
   "execution_count": 46,
   "id": "eef54064",
   "metadata": {},
   "outputs": [
    {
     "data": {
      "text/plain": [
       "{'Cat': 'Kucing',\n",
       " 'Dog': 'Anjing',\n",
       " 'Fish': 'Ikan',\n",
       " 'Bird': 'Burung',\n",
       " 'Elephant': 'Gajah'}"
      ]
     },
     "execution_count": 46,
     "metadata": {},
     "output_type": "execute_result"
    }
   ],
   "source": [
    "a"
   ]
  },
  {
   "cell_type": "code",
   "execution_count": 47,
   "id": "45300fc7",
   "metadata": {},
   "outputs": [
    {
     "data": {
      "text/plain": [
       "dict_keys(['Cat', 'Dog', 'Fish', 'Bird', 'Elephant'])"
      ]
     },
     "execution_count": 47,
     "metadata": {},
     "output_type": "execute_result"
    }
   ],
   "source": [
    "a.keys()"
   ]
  },
  {
   "cell_type": "code",
   "execution_count": 48,
   "id": "c0f189d8",
   "metadata": {},
   "outputs": [
    {
     "data": {
      "text/plain": [
       "dict_values(['Kucing', 'Anjing', 'Ikan', 'Burung', 'Gajah'])"
      ]
     },
     "execution_count": 48,
     "metadata": {},
     "output_type": "execute_result"
    }
   ],
   "source": [
    "a.values()"
   ]
  },
  {
   "cell_type": "code",
   "execution_count": 49,
   "id": "f3212ad8",
   "metadata": {},
   "outputs": [],
   "source": [
    "nilai = {\n",
    "    'Andi':40,\n",
    "    'Budi':55,\n",
    "    'Caca':75,\n",
    "    'Deddy':100\n",
    "}"
   ]
  },
  {
   "cell_type": "code",
   "execution_count": 50,
   "id": "b5d73e8d",
   "metadata": {},
   "outputs": [
    {
     "data": {
      "text/plain": [
       "40"
      ]
     },
     "execution_count": 50,
     "metadata": {},
     "output_type": "execute_result"
    }
   ],
   "source": [
    "nilai['Andi']"
   ]
  },
  {
   "cell_type": "code",
   "execution_count": 51,
   "id": "5bd7eb54",
   "metadata": {},
   "outputs": [],
   "source": [
    "nilai['Deddy'] = 90"
   ]
  },
  {
   "cell_type": "code",
   "execution_count": 52,
   "id": "b2ff9bb7",
   "metadata": {},
   "outputs": [
    {
     "data": {
      "text/plain": [
       "{'Andi': 40, 'Budi': 55, 'Caca': 75, 'Deddy': 90}"
      ]
     },
     "execution_count": 52,
     "metadata": {},
     "output_type": "execute_result"
    }
   ],
   "source": [
    "nilai"
   ]
  },
  {
   "cell_type": "markdown",
   "id": "060b5ddb",
   "metadata": {},
   "source": [
    "# Functions"
   ]
  },
  {
   "cell_type": "code",
   "execution_count": 53,
   "id": "fe341cf6",
   "metadata": {},
   "outputs": [],
   "source": [
    "def jumlah(a, b):\n",
    "    return a+b"
   ]
  },
  {
   "cell_type": "code",
   "execution_count": 54,
   "id": "9c580e98",
   "metadata": {},
   "outputs": [
    {
     "data": {
      "text/plain": [
       "7"
      ]
     },
     "execution_count": 54,
     "metadata": {},
     "output_type": "execute_result"
    }
   ],
   "source": [
    "jumlah(3,4)"
   ]
  },
  {
   "cell_type": "code",
   "execution_count": 55,
   "id": "1053cc67",
   "metadata": {},
   "outputs": [],
   "source": [
    "def perkalian(a,b):\n",
    "    return a*b"
   ]
  },
  {
   "cell_type": "code",
   "execution_count": 56,
   "id": "9dea1181",
   "metadata": {},
   "outputs": [
    {
     "data": {
      "text/plain": [
       "30"
      ]
     },
     "execution_count": 56,
     "metadata": {},
     "output_type": "execute_result"
    }
   ],
   "source": [
    "perkalian(5,6)"
   ]
  },
  {
   "cell_type": "markdown",
   "id": "995632aa",
   "metadata": {},
   "source": [
    "# Conditionals"
   ]
  },
  {
   "cell_type": "code",
   "execution_count": 63,
   "id": "b761f7e3",
   "metadata": {},
   "outputs": [],
   "source": [
    "score = 100"
   ]
  },
  {
   "cell_type": "code",
   "execution_count": 64,
   "id": "bfae1fd9",
   "metadata": {},
   "outputs": [
    {
     "name": "stdout",
     "output_type": "stream",
     "text": [
      "Indeks: S\n"
     ]
    }
   ],
   "source": [
    "if 0 <= score < 60:\n",
    "    print(\"Indeks: C\")\n",
    "elif 60 <= score < 80:\n",
    "    print(\"Indeks: B\")\n",
    "elif 80 <= score < 100:\n",
    "    print(\"Indeks: A\")\n",
    "elif score == 100:\n",
    "    print(\"Indeks: S\")\n",
    "else:\n",
    "    print(\"Score ngaco\")"
   ]
  },
  {
   "cell_type": "code",
   "execution_count": 65,
   "id": "6489e2df",
   "metadata": {},
   "outputs": [],
   "source": [
    "def konversi_ke_indeks(score):\n",
    "    if 0 <= score < 60:\n",
    "        return \"Indeks: C\"\n",
    "    elif 60 <= score < 80:\n",
    "        return \"Indeks: B\"\n",
    "    elif 80 <= score < 100:\n",
    "        return \"Indeks: A\"\n",
    "    elif score == 100:\n",
    "        return \"Indeks: S\"\n",
    "    else:\n",
    "        return \"Score ngaco\""
   ]
  },
  {
   "cell_type": "code",
   "execution_count": 68,
   "id": "42ebe2ee",
   "metadata": {},
   "outputs": [
    {
     "data": {
      "text/plain": [
       "'Indeks: A'"
      ]
     },
     "execution_count": 68,
     "metadata": {},
     "output_type": "execute_result"
    }
   ],
   "source": [
    "konversi_ke_indeks(90)"
   ]
  },
  {
   "cell_type": "markdown",
   "id": "d6eb3bc9",
   "metadata": {},
   "source": [
    "# Iterasi (Menelusuri)"
   ]
  },
  {
   "cell_type": "code",
   "execution_count": 69,
   "id": "14f26aca",
   "metadata": {},
   "outputs": [],
   "source": [
    "numbers = [1, 2, 3, 4, 5, 6]"
   ]
  },
  {
   "cell_type": "code",
   "execution_count": 70,
   "id": "3cb33a2d",
   "metadata": {},
   "outputs": [
    {
     "name": "stdout",
     "output_type": "stream",
     "text": [
      "1\n",
      "2\n",
      "3\n",
      "4\n",
      "5\n",
      "6\n"
     ]
    }
   ],
   "source": [
    "for n in numbers:\n",
    "    print(n)"
   ]
  },
  {
   "cell_type": "code",
   "execution_count": 73,
   "id": "96ec4922",
   "metadata": {},
   "outputs": [
    {
     "name": "stdout",
     "output_type": "stream",
     "text": [
      "Indeks: A\n",
      "Indeks: C\n",
      "Indeks: C\n",
      "Score ngaco\n"
     ]
    }
   ],
   "source": [
    "for score in (80,30,55,120):\n",
    "    print(konversi_ke_indeks(score))"
   ]
  },
  {
   "cell_type": "code",
   "execution_count": 74,
   "id": "5fb0c78c",
   "metadata": {},
   "outputs": [
    {
     "name": "stdout",
     "output_type": "stream",
     "text": [
      "1\n",
      "4\n",
      "9\n",
      "16\n",
      "25\n",
      "36\n"
     ]
    }
   ],
   "source": [
    "for number in numbers:\n",
    "    print(number**2)"
   ]
  },
  {
   "cell_type": "code",
   "execution_count": 75,
   "id": "a0de2bec",
   "metadata": {},
   "outputs": [],
   "source": [
    "animals = ['Cat', 'Fish', 'Bird', 'Elephant']"
   ]
  },
  {
   "cell_type": "code",
   "execution_count": 76,
   "id": "139f6cd8",
   "metadata": {},
   "outputs": [
    {
     "name": "stdout",
     "output_type": "stream",
     "text": [
      "Cat\n",
      "Fish\n",
      "Bird\n",
      "Elephant\n"
     ]
    }
   ],
   "source": [
    "for animal in animals:\n",
    "    print(animal)"
   ]
  },
  {
   "cell_type": "code",
   "execution_count": 78,
   "id": "2850e0bb",
   "metadata": {},
   "outputs": [
    {
     "name": "stdout",
     "output_type": "stream",
     "text": [
      "CAT\n",
      "FISH\n",
      "BIRD\n",
      "ELEPHANT\n"
     ]
    }
   ],
   "source": [
    "for animal in animals:\n",
    "    print(animal.upper())"
   ]
  },
  {
   "cell_type": "code",
   "execution_count": 79,
   "id": "d4676d0a",
   "metadata": {},
   "outputs": [
    {
     "name": "stdout",
     "output_type": "stream",
     "text": [
      "cat\n",
      "fish\n",
      "bird\n",
      "elephant\n"
     ]
    }
   ],
   "source": [
    "for animal in animals:\n",
    "    print(animal.lower())"
   ]
  },
  {
   "cell_type": "code",
   "execution_count": 82,
   "id": "b733b404",
   "metadata": {},
   "outputs": [
    {
     "name": "stdout",
     "output_type": "stream",
     "text": [
      "2\n",
      "4\n"
     ]
    }
   ],
   "source": [
    "for i in range(2, 5, 2):\n",
    "    print(i)"
   ]
  },
  {
   "cell_type": "code",
   "execution_count": 83,
   "id": "a920abc0",
   "metadata": {},
   "outputs": [
    {
     "data": {
      "text/plain": [
       "{'Cat': 'Kucing',\n",
       " 'Dog': 'Anjing',\n",
       " 'Fish': 'Ikan',\n",
       " 'Bird': 'Burung',\n",
       " 'Elephant': 'Gajah'}"
      ]
     },
     "execution_count": 83,
     "metadata": {},
     "output_type": "execute_result"
    }
   ],
   "source": [
    "a"
   ]
  },
  {
   "cell_type": "code",
   "execution_count": 84,
   "id": "992d8961",
   "metadata": {},
   "outputs": [
    {
     "name": "stdout",
     "output_type": "stream",
     "text": [
      "Bahasa Indonesia dari Cat adalah Kucing\n",
      "Bahasa Indonesia dari Dog adalah Anjing\n",
      "Bahasa Indonesia dari Fish adalah Ikan\n",
      "Bahasa Indonesia dari Bird adalah Burung\n",
      "Bahasa Indonesia dari Elephant adalah Gajah\n"
     ]
    }
   ],
   "source": [
    "for key in a.keys():\n",
    "    print('Bahasa Indonesia dari', key, 'adalah', a[key])"
   ]
  },
  {
   "cell_type": "code",
   "execution_count": 86,
   "id": "c9084f5d",
   "metadata": {},
   "outputs": [
    {
     "data": {
      "text/plain": [
       "'Bahasa Indonesia dari Elephant adalah Gajah'"
      ]
     },
     "execution_count": 86,
     "metadata": {},
     "output_type": "execute_result"
    }
   ],
   "source": [
    "f\"Bahasa Indonesia dari {key} adalah {a[key]}\""
   ]
  },
  {
   "cell_type": "code",
   "execution_count": 87,
   "id": "22de9bba",
   "metadata": {},
   "outputs": [],
   "source": [
    "a = []\n",
    "for i in range(5):\n",
    "    a.append(i**2)"
   ]
  },
  {
   "cell_type": "code",
   "execution_count": 88,
   "id": "0df2baa9",
   "metadata": {},
   "outputs": [
    {
     "data": {
      "text/plain": [
       "[0, 1, 4, 9, 16]"
      ]
     },
     "execution_count": 88,
     "metadata": {},
     "output_type": "execute_result"
    }
   ],
   "source": [
    "a"
   ]
  },
  {
   "cell_type": "markdown",
   "id": "394b6235",
   "metadata": {},
   "source": [
    "# Python Comprehension"
   ]
  },
  {
   "cell_type": "code",
   "execution_count": 89,
   "id": "d97512a2",
   "metadata": {},
   "outputs": [],
   "source": [
    "a = [i**2 for i in range(5)]"
   ]
  },
  {
   "cell_type": "code",
   "execution_count": 90,
   "id": "3435f557",
   "metadata": {},
   "outputs": [
    {
     "data": {
      "text/plain": [
       "[0, 1, 4, 9, 16]"
      ]
     },
     "execution_count": 90,
     "metadata": {},
     "output_type": "execute_result"
    }
   ],
   "source": [
    "a"
   ]
  },
  {
   "cell_type": "code",
   "execution_count": 91,
   "id": "4848b2f9",
   "metadata": {},
   "outputs": [],
   "source": [
    "a = {i:i**2 for i in range(5)}"
   ]
  },
  {
   "cell_type": "code",
   "execution_count": 92,
   "id": "1b42acca",
   "metadata": {},
   "outputs": [
    {
     "data": {
      "text/plain": [
       "{0: 0, 1: 1, 2: 4, 3: 9, 4: 16}"
      ]
     },
     "execution_count": 92,
     "metadata": {},
     "output_type": "execute_result"
    }
   ],
   "source": [
    "a"
   ]
  },
  {
   "cell_type": "code",
   "execution_count": 94,
   "id": "2d05291a",
   "metadata": {},
   "outputs": [
    {
     "data": {
      "text/plain": [
       "{1, 2, 3, 4, 5, 6, 7, 8}"
      ]
     },
     "execution_count": 94,
     "metadata": {},
     "output_type": "execute_result"
    }
   ],
   "source": [
    "{1,1,2,3,2,1,5,4,7,5,6,7,8,1,1,1,1} # set"
   ]
  },
  {
   "cell_type": "code",
   "execution_count": 95,
   "id": "e82e39b0",
   "metadata": {},
   "outputs": [],
   "source": [
    "nilai = [konversi_ke_indeks(score) for score in (20,40,80,30,10,-5,105)]"
   ]
  },
  {
   "cell_type": "code",
   "execution_count": 96,
   "id": "ed4a2135",
   "metadata": {},
   "outputs": [
    {
     "data": {
      "text/plain": [
       "['Indeks: C',\n",
       " 'Indeks: C',\n",
       " 'Indeks: A',\n",
       " 'Indeks: C',\n",
       " 'Indeks: C',\n",
       " 'Score ngaco',\n",
       " 'Score ngaco']"
      ]
     },
     "execution_count": 96,
     "metadata": {},
     "output_type": "execute_result"
    }
   ],
   "source": [
    "nilai"
   ]
  }
 ],
 "metadata": {
  "kernelspec": {
   "display_name": "Python 3 (ipykernel)",
   "language": "python",
   "name": "python3"
  },
  "language_info": {
   "codemirror_mode": {
    "name": "ipython",
    "version": 3
   },
   "file_extension": ".py",
   "mimetype": "text/x-python",
   "name": "python",
   "nbconvert_exporter": "python",
   "pygments_lexer": "ipython3",
   "version": "3.9.16"
  }
 },
 "nbformat": 4,
 "nbformat_minor": 5
}
